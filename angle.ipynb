{
 "cells": [
  {
   "cell_type": "code",
   "execution_count": 51,
   "metadata": {},
   "outputs": [],
   "source": [
    "import os\n",
    "import numpy as np\n",
    "import matplotlib.pyplot as plt\n",
    "import keras\n",
    "from keras.models import Sequential\n",
    "from keras.optimizers import Adam\n",
    "from keras.layers import Conv2D, MaxPool2D, Dropout, Flatten, Dense\n",
    "from sklearn.utils import shuffle\n",
    "from sklearn.model_selection import train_test_split\n",
    "import cv2\n",
    "import pandas as pd\n",
    "import ntpath\n",
    "import random\n"
   ]
  },
  {
   "cell_type": "code",
   "execution_count": 52,
   "metadata": {},
   "outputs": [
    {
     "data": {
      "text/html": [
       "<div>\n",
       "<style scoped>\n",
       "    .dataframe tbody tr th:only-of-type {\n",
       "        vertical-align: middle;\n",
       "    }\n",
       "\n",
       "    .dataframe tbody tr th {\n",
       "        vertical-align: top;\n",
       "    }\n",
       "\n",
       "    .dataframe thead th {\n",
       "        text-align: right;\n",
       "    }\n",
       "</style>\n",
       "<table border=\"1\" class=\"dataframe\">\n",
       "  <thead>\n",
       "    <tr style=\"text-align: right;\">\n",
       "      <th></th>\n",
       "      <th>center</th>\n",
       "      <th>left</th>\n",
       "      <th>right</th>\n",
       "      <th>steering</th>\n",
       "      <th>throttle</th>\n",
       "      <th>reverse</th>\n",
       "      <th>speed</th>\n",
       "    </tr>\n",
       "  </thead>\n",
       "  <tbody>\n",
       "    <tr>\n",
       "      <th>0</th>\n",
       "      <td>C:\\Users\\Dell XPS\\OneDrive\\Desktop\\mlsus\\IMG\\center_2023_10_20_21_43_17_157.jpg</td>\n",
       "      <td>C:\\Users\\Dell XPS\\OneDrive\\Desktop\\mlsus\\IMG\\left_2023_10_20_21_43_17_157.jpg</td>\n",
       "      <td>C:\\Users\\Dell XPS\\OneDrive\\Desktop\\mlsus\\IMG\\right_2023_10_20_21_43_17_157.jpg</td>\n",
       "      <td>0.0</td>\n",
       "      <td>0.000000</td>\n",
       "      <td>0</td>\n",
       "      <td>0.000048</td>\n",
       "    </tr>\n",
       "    <tr>\n",
       "      <th>1</th>\n",
       "      <td>C:\\Users\\Dell XPS\\OneDrive\\Desktop\\mlsus\\IMG\\center_2023_10_20_21_43_17_258.jpg</td>\n",
       "      <td>C:\\Users\\Dell XPS\\OneDrive\\Desktop\\mlsus\\IMG\\left_2023_10_20_21_43_17_258.jpg</td>\n",
       "      <td>C:\\Users\\Dell XPS\\OneDrive\\Desktop\\mlsus\\IMG\\right_2023_10_20_21_43_17_258.jpg</td>\n",
       "      <td>0.0</td>\n",
       "      <td>0.000000</td>\n",
       "      <td>0</td>\n",
       "      <td>0.000044</td>\n",
       "    </tr>\n",
       "    <tr>\n",
       "      <th>2</th>\n",
       "      <td>C:\\Users\\Dell XPS\\OneDrive\\Desktop\\mlsus\\IMG\\center_2023_10_20_21_43_17_358.jpg</td>\n",
       "      <td>C:\\Users\\Dell XPS\\OneDrive\\Desktop\\mlsus\\IMG\\left_2023_10_20_21_43_17_358.jpg</td>\n",
       "      <td>C:\\Users\\Dell XPS\\OneDrive\\Desktop\\mlsus\\IMG\\right_2023_10_20_21_43_17_358.jpg</td>\n",
       "      <td>0.0</td>\n",
       "      <td>0.000000</td>\n",
       "      <td>0</td>\n",
       "      <td>0.000042</td>\n",
       "    </tr>\n",
       "    <tr>\n",
       "      <th>3</th>\n",
       "      <td>C:\\Users\\Dell XPS\\OneDrive\\Desktop\\mlsus\\IMG\\center_2023_10_20_21_43_17_459.jpg</td>\n",
       "      <td>C:\\Users\\Dell XPS\\OneDrive\\Desktop\\mlsus\\IMG\\left_2023_10_20_21_43_17_459.jpg</td>\n",
       "      <td>C:\\Users\\Dell XPS\\OneDrive\\Desktop\\mlsus\\IMG\\right_2023_10_20_21_43_17_459.jpg</td>\n",
       "      <td>0.0</td>\n",
       "      <td>0.000000</td>\n",
       "      <td>0</td>\n",
       "      <td>0.000038</td>\n",
       "    </tr>\n",
       "    <tr>\n",
       "      <th>4</th>\n",
       "      <td>C:\\Users\\Dell XPS\\OneDrive\\Desktop\\mlsus\\IMG\\center_2023_10_20_21_43_17_560.jpg</td>\n",
       "      <td>C:\\Users\\Dell XPS\\OneDrive\\Desktop\\mlsus\\IMG\\left_2023_10_20_21_43_17_560.jpg</td>\n",
       "      <td>C:\\Users\\Dell XPS\\OneDrive\\Desktop\\mlsus\\IMG\\right_2023_10_20_21_43_17_560.jpg</td>\n",
       "      <td>0.0</td>\n",
       "      <td>0.199523</td>\n",
       "      <td>0</td>\n",
       "      <td>0.062761</td>\n",
       "    </tr>\n",
       "  </tbody>\n",
       "</table>\n",
       "</div>"
      ],
      "text/plain": [
       "                                                                            center   \n",
       "0  C:\\Users\\Dell XPS\\OneDrive\\Desktop\\mlsus\\IMG\\center_2023_10_20_21_43_17_157.jpg  \\\n",
       "1  C:\\Users\\Dell XPS\\OneDrive\\Desktop\\mlsus\\IMG\\center_2023_10_20_21_43_17_258.jpg   \n",
       "2  C:\\Users\\Dell XPS\\OneDrive\\Desktop\\mlsus\\IMG\\center_2023_10_20_21_43_17_358.jpg   \n",
       "3  C:\\Users\\Dell XPS\\OneDrive\\Desktop\\mlsus\\IMG\\center_2023_10_20_21_43_17_459.jpg   \n",
       "4  C:\\Users\\Dell XPS\\OneDrive\\Desktop\\mlsus\\IMG\\center_2023_10_20_21_43_17_560.jpg   \n",
       "\n",
       "                                                                             left   \n",
       "0   C:\\Users\\Dell XPS\\OneDrive\\Desktop\\mlsus\\IMG\\left_2023_10_20_21_43_17_157.jpg  \\\n",
       "1   C:\\Users\\Dell XPS\\OneDrive\\Desktop\\mlsus\\IMG\\left_2023_10_20_21_43_17_258.jpg   \n",
       "2   C:\\Users\\Dell XPS\\OneDrive\\Desktop\\mlsus\\IMG\\left_2023_10_20_21_43_17_358.jpg   \n",
       "3   C:\\Users\\Dell XPS\\OneDrive\\Desktop\\mlsus\\IMG\\left_2023_10_20_21_43_17_459.jpg   \n",
       "4   C:\\Users\\Dell XPS\\OneDrive\\Desktop\\mlsus\\IMG\\left_2023_10_20_21_43_17_560.jpg   \n",
       "\n",
       "                                                                             right   \n",
       "0   C:\\Users\\Dell XPS\\OneDrive\\Desktop\\mlsus\\IMG\\right_2023_10_20_21_43_17_157.jpg  \\\n",
       "1   C:\\Users\\Dell XPS\\OneDrive\\Desktop\\mlsus\\IMG\\right_2023_10_20_21_43_17_258.jpg   \n",
       "2   C:\\Users\\Dell XPS\\OneDrive\\Desktop\\mlsus\\IMG\\right_2023_10_20_21_43_17_358.jpg   \n",
       "3   C:\\Users\\Dell XPS\\OneDrive\\Desktop\\mlsus\\IMG\\right_2023_10_20_21_43_17_459.jpg   \n",
       "4   C:\\Users\\Dell XPS\\OneDrive\\Desktop\\mlsus\\IMG\\right_2023_10_20_21_43_17_560.jpg   \n",
       "\n",
       "   steering  throttle  reverse     speed  \n",
       "0  0.0       0.000000  0        0.000048  \n",
       "1  0.0       0.000000  0        0.000044  \n",
       "2  0.0       0.000000  0        0.000042  \n",
       "3  0.0       0.000000  0        0.000038  \n",
       "4  0.0       0.199523  0        0.062761  "
      ]
     },
     "execution_count": 52,
     "metadata": {},
     "output_type": "execute_result"
    }
   ],
   "source": [
    "columns = ['center', 'left', 'right', 'steering', 'throttle', 'reverse', 'speed']\n",
    "df = pd.read_csv(\"driving_log.csv\", names = columns)\n",
    "#pd.set_option(\"display.max_colwidth\", -1)\n",
    "df.head()"
   ]
  },
  {
   "cell_type": "code",
   "execution_count": 53,
   "metadata": {},
   "outputs": [
    {
     "data": {
      "text/html": [
       "<div>\n",
       "<style scoped>\n",
       "    .dataframe tbody tr th:only-of-type {\n",
       "        vertical-align: middle;\n",
       "    }\n",
       "\n",
       "    .dataframe tbody tr th {\n",
       "        vertical-align: top;\n",
       "    }\n",
       "\n",
       "    .dataframe thead th {\n",
       "        text-align: right;\n",
       "    }\n",
       "</style>\n",
       "<table border=\"1\" class=\"dataframe\">\n",
       "  <thead>\n",
       "    <tr style=\"text-align: right;\">\n",
       "      <th></th>\n",
       "      <th>center</th>\n",
       "      <th>left</th>\n",
       "      <th>right</th>\n",
       "      <th>steering</th>\n",
       "      <th>throttle</th>\n",
       "      <th>reverse</th>\n",
       "      <th>speed</th>\n",
       "    </tr>\n",
       "  </thead>\n",
       "  <tbody>\n",
       "    <tr>\n",
       "      <th>0</th>\n",
       "      <td>center_2023_10_20_21_43_17_157.jpg</td>\n",
       "      <td>left_2023_10_20_21_43_17_157.jpg</td>\n",
       "      <td>right_2023_10_20_21_43_17_157.jpg</td>\n",
       "      <td>0.0</td>\n",
       "      <td>0.000000</td>\n",
       "      <td>0</td>\n",
       "      <td>0.000048</td>\n",
       "    </tr>\n",
       "    <tr>\n",
       "      <th>1</th>\n",
       "      <td>center_2023_10_20_21_43_17_258.jpg</td>\n",
       "      <td>left_2023_10_20_21_43_17_258.jpg</td>\n",
       "      <td>right_2023_10_20_21_43_17_258.jpg</td>\n",
       "      <td>0.0</td>\n",
       "      <td>0.000000</td>\n",
       "      <td>0</td>\n",
       "      <td>0.000044</td>\n",
       "    </tr>\n",
       "    <tr>\n",
       "      <th>2</th>\n",
       "      <td>center_2023_10_20_21_43_17_358.jpg</td>\n",
       "      <td>left_2023_10_20_21_43_17_358.jpg</td>\n",
       "      <td>right_2023_10_20_21_43_17_358.jpg</td>\n",
       "      <td>0.0</td>\n",
       "      <td>0.000000</td>\n",
       "      <td>0</td>\n",
       "      <td>0.000042</td>\n",
       "    </tr>\n",
       "    <tr>\n",
       "      <th>3</th>\n",
       "      <td>center_2023_10_20_21_43_17_459.jpg</td>\n",
       "      <td>left_2023_10_20_21_43_17_459.jpg</td>\n",
       "      <td>right_2023_10_20_21_43_17_459.jpg</td>\n",
       "      <td>0.0</td>\n",
       "      <td>0.000000</td>\n",
       "      <td>0</td>\n",
       "      <td>0.000038</td>\n",
       "    </tr>\n",
       "    <tr>\n",
       "      <th>4</th>\n",
       "      <td>center_2023_10_20_21_43_17_560.jpg</td>\n",
       "      <td>left_2023_10_20_21_43_17_560.jpg</td>\n",
       "      <td>right_2023_10_20_21_43_17_560.jpg</td>\n",
       "      <td>0.0</td>\n",
       "      <td>0.199523</td>\n",
       "      <td>0</td>\n",
       "      <td>0.062761</td>\n",
       "    </tr>\n",
       "  </tbody>\n",
       "</table>\n",
       "</div>"
      ],
      "text/plain": [
       "                               center                              left   \n",
       "0  center_2023_10_20_21_43_17_157.jpg  left_2023_10_20_21_43_17_157.jpg  \\\n",
       "1  center_2023_10_20_21_43_17_258.jpg  left_2023_10_20_21_43_17_258.jpg   \n",
       "2  center_2023_10_20_21_43_17_358.jpg  left_2023_10_20_21_43_17_358.jpg   \n",
       "3  center_2023_10_20_21_43_17_459.jpg  left_2023_10_20_21_43_17_459.jpg   \n",
       "4  center_2023_10_20_21_43_17_560.jpg  left_2023_10_20_21_43_17_560.jpg   \n",
       "\n",
       "                               right  steering  throttle  reverse     speed  \n",
       "0  right_2023_10_20_21_43_17_157.jpg  0.0       0.000000  0        0.000048  \n",
       "1  right_2023_10_20_21_43_17_258.jpg  0.0       0.000000  0        0.000044  \n",
       "2  right_2023_10_20_21_43_17_358.jpg  0.0       0.000000  0        0.000042  \n",
       "3  right_2023_10_20_21_43_17_459.jpg  0.0       0.000000  0        0.000038  \n",
       "4  right_2023_10_20_21_43_17_560.jpg  0.0       0.199523  0        0.062761  "
      ]
     },
     "execution_count": 53,
     "metadata": {},
     "output_type": "execute_result"
    }
   ],
   "source": [
    "def path_leaf(path):\n",
    "    head, tail =ntpath.split(path)\n",
    "    return tail\n",
    "\n",
    "df['center']=df['center'].apply(path_leaf)\n",
    "df['left']=df['left'].apply(path_leaf)\n",
    "df['right']=df['right'].apply(path_leaf)\n",
    "df.head()"
   ]
  },
  {
   "cell_type": "code",
   "execution_count": 54,
   "metadata": {},
   "outputs": [
    {
     "name": "stdout",
     "output_type": "stream",
     "text": [
      "[-0.62072904 -0.56598593 -0.51124281 -0.45649969 -0.40175658 -0.34701346\n",
      " -0.29227035 -0.23752723 -0.18278411 -0.128041   -0.07329788 -0.01855477\n",
      "  0.03618835  0.09093147  0.14567458  0.2004177   0.25516081  0.30990393\n",
      "  0.36464705  0.41939016  0.47413328  0.52887639  0.58361951  0.63836263\n",
      "  0.69310574]\n"
     ]
    },
    {
     "data": {
      "text/plain": [
       "[<matplotlib.lines.Line2D at 0x1718ce91240>]"
      ]
     },
     "execution_count": 54,
     "metadata": {},
     "output_type": "execute_result"
    },
    {
     "data": {
      "image/png": "[encoded data removed]",
      "text/plain": [
       "<Figure size 640x480 with 1 Axes>"
      ]
     },
     "metadata": {},
     "output_type": "display_data"
    }
   ],
   "source": [
    "num_bins = 25\n",
    "samples_per_bin = 125\n",
    "hist, bins = np.histogram(df['steering'], num_bins)\n",
    "center = (bins[:-1]+ bins[1:])*0.5\n",
    "print(center)\n",
    "plt.bar(center, hist, width= 0.05)\n",
    "plt.plot((np.min(df['steering']), np.max(df['steering'])), (samples_per_bin, samples_per_bin))"
   ]
  },
  {
   "cell_type": "code",
   "execution_count": 55,
   "metadata": {},
   "outputs": [
    {
     "name": "stdout",
     "output_type": "stream",
     "text": [
      "total data: 1033\n",
      "removed 218\n",
      "remaining: 815\n"
     ]
    },
    {
     "data": {
      "text/plain": [
       "[<matplotlib.lines.Line2D at 0x1718cf27460>]"
      ]
     },
     "execution_count": 55,
     "metadata": {},
     "output_type": "execute_result"
    },
    {
     "data": {
      "image/png": "[encoded data removed]",
      "text/plain": [
       "<Figure size 640x480 with 1 Axes>"
      ]
     },
     "metadata": {},
     "output_type": "display_data"
    }
   ],
   "source": [
    "print(\"total data:\", len(df))\n",
    "remove_list = []\n",
    "for j in range(num_bins):\n",
    "    list_ =[]\n",
    "    for i in range(len(df['steering'])):\n",
    "        if df['steering'][i] >= bins[j] and df['steering'][i] <= bins[j+1]:\n",
    "            list_.append(i)\n",
    "    list_= shuffle(list_)\n",
    "    list_ = list_[samples_per_bin:]\n",
    "    remove_list.extend(list_)\n",
    "\n",
    "print('removed', len(remove_list))\n",
    "df.drop(df.index[remove_list], inplace=True)\n",
    "print('remaining:', len(df))\n",
    "\n",
    "hist, bins = np.histogram(df['steering'], num_bins)\n",
    "\n",
    "plt.bar(center, hist, width= 0.05)\n",
    "plt.plot((np.min(df['steering']), np.max(df['steering'])), (samples_per_bin, samples_per_bin))\n"
   ]
  },
  {
   "cell_type": "code",
   "execution_count": 61,
   "metadata": {},
   "outputs": [
    {
     "name": "stdout",
     "output_type": "stream",
     "text": [
      "center      center_2023_10_20_21_43_17_258.jpg\n",
      "left        left_2023_10_20_21_43_17_258.jpg  \n",
      "right       right_2023_10_20_21_43_17_258.jpg \n",
      "steering    0.0                               \n",
      "throttle    0.0                               \n",
      "reverse     0                                 \n",
      "speed       0.000044                          \n",
      "Name: 1, dtype: object\n",
      "['/IMG\\\\center_2023_10_20_21_43_17_157.jpg']\n"
     ]
    }
   ],
   "source": [
    "print(df.iloc[1])\n",
    "def load_img_steering(df):\n",
    "    image_path = []\n",
    "    steering = []\n",
    "    for i in range(len(df)):\n",
    "        indexed_data = df.iloc[i]\n",
    "        center, left,right = indexed_data[0], indexed_data[1], indexed_data[2]\n",
    "        image_path.append( '/IMG'+center.strip())\n",
    "        steering.append(float(indexed_data[3]))\n",
    "        return image_path, steering\n",
    "    \n",
    "image_paths, steerings = load_img_steering(df)\n",
    "print(image_paths)"
   ]
  },
  {
   "cell_type": "code",
   "execution_count": 59,
   "metadata": {},
   "outputs": [
    {
     "ename": "ValueError",
     "evalue": "With n_samples=1, test_size=0.1 and train_size=None, the resulting train set will be empty. Adjust any of the aforementioned parameters.",
     "output_type": "error",
     "traceback": [
      "\u001b[1;31m---------------------------------------------------------------------------\u001b[0m",
      "\u001b[1;31mValueError\u001b[0m                                Traceback (most recent call last)",
      "\u001b[1;32mc:\\Users\\junch\\OneDrive\\Desktop\\mlsus\\angle.ipynb Cell 7\u001b[0m line \u001b[0;36m1\n\u001b[1;32m----> <a href='vscode-notebook-cell:/c%3A/Users/junch/OneDrive/Desktop/mlsus/angle.ipynb#X10sZmlsZQ%3D%3D?line=0'>1</a>\u001b[0m X_train, X_test, y_train, y_test \u001b[39m=\u001b[39m train_test_split(image_paths, steerings, test_size\u001b[39m=\u001b[39;49m\u001b[39m0.1\u001b[39;49m, random_state\u001b[39m=\u001b[39;49m\u001b[39m2\u001b[39;49m)\n\u001b[0;32m      <a href='vscode-notebook-cell:/c%3A/Users/junch/OneDrive/Desktop/mlsus/angle.ipynb#X10sZmlsZQ%3D%3D?line=1'>2</a>\u001b[0m \u001b[39mprint\u001b[39m(\u001b[39mlen\u001b[39m(X_train), \u001b[39mlen\u001b[39m(X_test))\n",
      "File \u001b[1;32mc:\\Users\\junch\\AppData\\Local\\Programs\\Python\\Python310\\lib\\site-packages\\sklearn\\utils\\_param_validation.py:211\u001b[0m, in \u001b[0;36mvalidate_params.<locals>.decorator.<locals>.wrapper\u001b[1;34m(*args, **kwargs)\u001b[0m\n\u001b[0;32m    205\u001b[0m \u001b[39mtry\u001b[39;00m:\n\u001b[0;32m    206\u001b[0m     \u001b[39mwith\u001b[39;00m config_context(\n\u001b[0;32m    207\u001b[0m         skip_parameter_validation\u001b[39m=\u001b[39m(\n\u001b[0;32m    208\u001b[0m             prefer_skip_nested_validation \u001b[39mor\u001b[39;00m global_skip_validation\n\u001b[0;32m    209\u001b[0m         )\n\u001b[0;32m    210\u001b[0m     ):\n\u001b[1;32m--> 211\u001b[0m         \u001b[39mreturn\u001b[39;00m func(\u001b[39m*\u001b[39margs, \u001b[39m*\u001b[39m\u001b[39m*\u001b[39mkwargs)\n\u001b[0;32m    212\u001b[0m \u001b[39mexcept\u001b[39;00m InvalidParameterError \u001b[39mas\u001b[39;00m e:\n\u001b[0;32m    213\u001b[0m     \u001b[39m# When the function is just a wrapper around an estimator, we allow\u001b[39;00m\n\u001b[0;32m    214\u001b[0m     \u001b[39m# the function to delegate validation to the estimator, but we replace\u001b[39;00m\n\u001b[0;32m    215\u001b[0m     \u001b[39m# the name of the estimator by the name of the function in the error\u001b[39;00m\n\u001b[0;32m    216\u001b[0m     \u001b[39m# message to avoid confusion.\u001b[39;00m\n\u001b[0;32m    217\u001b[0m     msg \u001b[39m=\u001b[39m re\u001b[39m.\u001b[39msub(\n\u001b[0;32m    218\u001b[0m         \u001b[39mr\u001b[39m\u001b[39m\"\u001b[39m\u001b[39mparameter of \u001b[39m\u001b[39m\\\u001b[39m\u001b[39mw+ must be\u001b[39m\u001b[39m\"\u001b[39m,\n\u001b[0;32m    219\u001b[0m         \u001b[39mf\u001b[39m\u001b[39m\"\u001b[39m\u001b[39mparameter of \u001b[39m\u001b[39m{\u001b[39;00mfunc\u001b[39m.\u001b[39m\u001b[39m__qualname__\u001b[39m\u001b[39m}\u001b[39;00m\u001b[39m must be\u001b[39m\u001b[39m\"\u001b[39m,\n\u001b[0;32m    220\u001b[0m         \u001b[39mstr\u001b[39m(e),\n\u001b[0;32m    221\u001b[0m     )\n",
      "File \u001b[1;32mc:\\Users\\junch\\AppData\\Local\\Programs\\Python\\Python310\\lib\\site-packages\\sklearn\\model_selection\\_split.py:2617\u001b[0m, in \u001b[0;36mtrain_test_split\u001b[1;34m(test_size, train_size, random_state, shuffle, stratify, *arrays)\u001b[0m\n\u001b[0;32m   2614\u001b[0m arrays \u001b[39m=\u001b[39m indexable(\u001b[39m*\u001b[39marrays)\n\u001b[0;32m   2616\u001b[0m n_samples \u001b[39m=\u001b[39m _num_samples(arrays[\u001b[39m0\u001b[39m])\n\u001b[1;32m-> 2617\u001b[0m n_train, n_test \u001b[39m=\u001b[39m _validate_shuffle_split(\n\u001b[0;32m   2618\u001b[0m     n_samples, test_size, train_size, default_test_size\u001b[39m=\u001b[39;49m\u001b[39m0.25\u001b[39;49m\n\u001b[0;32m   2619\u001b[0m )\n\u001b[0;32m   2621\u001b[0m \u001b[39mif\u001b[39;00m shuffle \u001b[39mis\u001b[39;00m \u001b[39mFalse\u001b[39;00m:\n\u001b[0;32m   2622\u001b[0m     \u001b[39mif\u001b[39;00m stratify \u001b[39mis\u001b[39;00m \u001b[39mnot\u001b[39;00m \u001b[39mNone\u001b[39;00m:\n",
      "File \u001b[1;32mc:\\Users\\junch\\AppData\\Local\\Programs\\Python\\Python310\\lib\\site-packages\\sklearn\\model_selection\\_split.py:2273\u001b[0m, in \u001b[0;36m_validate_shuffle_split\u001b[1;34m(n_samples, test_size, train_size, default_test_size)\u001b[0m\n\u001b[0;32m   2270\u001b[0m n_train, n_test \u001b[39m=\u001b[39m \u001b[39mint\u001b[39m(n_train), \u001b[39mint\u001b[39m(n_test)\n\u001b[0;32m   2272\u001b[0m \u001b[39mif\u001b[39;00m n_train \u001b[39m==\u001b[39m \u001b[39m0\u001b[39m:\n\u001b[1;32m-> 2273\u001b[0m     \u001b[39mraise\u001b[39;00m \u001b[39mValueError\u001b[39;00m(\n\u001b[0;32m   2274\u001b[0m         \u001b[39m\"\u001b[39m\u001b[39mWith n_samples=\u001b[39m\u001b[39m{}\u001b[39;00m\u001b[39m, test_size=\u001b[39m\u001b[39m{}\u001b[39;00m\u001b[39m and train_size=\u001b[39m\u001b[39m{}\u001b[39;00m\u001b[39m, the \u001b[39m\u001b[39m\"\u001b[39m\n\u001b[0;32m   2275\u001b[0m         \u001b[39m\"\u001b[39m\u001b[39mresulting train set will be empty. Adjust any of the \u001b[39m\u001b[39m\"\u001b[39m\n\u001b[0;32m   2276\u001b[0m         \u001b[39m\"\u001b[39m\u001b[39maforementioned parameters.\u001b[39m\u001b[39m\"\u001b[39m\u001b[39m.\u001b[39mformat(n_samples, test_size, train_size)\n\u001b[0;32m   2277\u001b[0m     )\n\u001b[0;32m   2279\u001b[0m \u001b[39mreturn\u001b[39;00m n_train, n_test\n",
      "\u001b[1;31mValueError\u001b[0m: With n_samples=1, test_size=0.1 and train_size=None, the resulting train set will be empty. Adjust any of the aforementioned parameters."
     ]
    }
   ],
   "source": [
    "X_train, X_test, y_train, y_test = train_test_split(image_paths, steerings, test_size=0.1, random_state=2)\n",
    "print(len(X_train), len(X_test))"
   ]
  }
 ],
 "metadata": {
  "kernelspec": {
   "display_name": "Python 3",
   "language": "python",
   "name": "python3"
  },
  "language_info": {
   "codemirror_mode": {
    "name": "ipython",
    "version": 3
   },
   "file_extension": ".py",
   "mimetype": "text/x-python",
   "name": "python",
   "nbconvert_exporter": "python",
   "pygments_lexer": "ipython3",
   "version": "3.10.10"
  }
 },
 "nbformat": 4,
 "nbformat_minor": 2
}
